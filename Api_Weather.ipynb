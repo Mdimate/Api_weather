{
 "cells": [
  {
   "cell_type": "code",
   "execution_count": 5,
   "id": "4b3efba5-b564-47b8-9de4-05f44da88dc5",
   "metadata": {},
   "outputs": [],
   "source": [
    "import requests\n",
    "import json \n",
    "import pandas as pd"
   ]
  },
  {
   "cell_type": "code",
   "execution_count": 6,
   "id": "769bea53-0c82-4c3d-b3f4-660f0e674b5e",
   "metadata": {},
   "outputs": [],
   "source": [
    "API_KEY = 'b0cb6845a8e8cf27cfe4b59531379082'  # Reemplazar con tu API Key de OpenWeather\n",
    "ciudad = 'Urumita'\n",
    "id_city = '3666381'\n",
    "#url = f'https://api.openweathermap.org/data/2.5/weather?id={id_city}&appid={API_KEY}&units=metric'\n",
    "url = f'http://api.openweathermap.org/data/2.5/weather?q={ciudad}&appid={API_KEY}&units=metric'"
   ]
  },
  {
   "cell_type": "code",
   "execution_count": 7,
   "id": "c1d51207-4218-4259-b71f-b764481335ae",
   "metadata": {},
   "outputs": [
    {
     "name": "stdout",
     "output_type": "stream",
     "text": [
      "Temperatura actual en Urumita: 32.23°C\n"
     ]
    }
   ],
   "source": [
    "respuesta = requests.get(url)\n",
    "\n",
    "if respuesta.status_code == 200:\n",
    "    datos = respuesta.json()\n",
    "    if 'main' in datos and 'weather' in datos:\n",
    "        temperatura_actual = datos['main']['temp']\n",
    "        descripcion_clima = datos['weather'][0]['description']\n",
    "        print(f'Temperatura actual en {ciudad}: {temperatura_actual}°C')\n",
    "        #print(f'Temperatura actual en {id_city}: {temperatura_actual}°C')\n",
    "        #print(f'Descripción del clima: {descripcion_clima}')\n",
    "    else:\n",
    "        print('Error: No se encontraron los datos esperados en la respuesta.')\n",
    "else:\n",
    "    print(f'Error: No se pudo obtener los datos del clima. Código de estado: {respuesta.status_code}')"
   ]
  },
  {
   "cell_type": "code",
   "execution_count": 11,
   "id": "21367f38-12f9-451c-8218-18a6a5df32a1",
   "metadata": {},
   "outputs": [
    {
     "name": "stdout",
     "output_type": "stream",
     "text": [
      "         Ciudad  Temperatura\n",
      "0        Bogota        19.73\n",
      "1      Medellin        26.56\n",
      "2          Cali        28.41\n",
      "3  Barranquilla        31.88\n",
      "4     Cartagena        31.79\n",
      "5        Cúcuta        31.97\n",
      "6   Bucaramanga        25.73\n",
      "7       Pereira        23.56\n",
      "8   Santa Marta        31.05\n",
      "9        Ibagué        25.95\n"
     ]
    }
   ],
   "source": [
    "# Reemplazar con tu API Key de OpenWeather\n",
    "API_KEY = 'b0cb6845a8e8cf27cfe4b59531379082'\n",
    "\n",
    "# Lista de ciudades colombianas\n",
    "ciudades = ['Bogota', 'Medellin', 'Cali', 'Barranquilla', 'Cartagena', 'Cúcuta', 'Bucaramanga', 'Pereira', 'Santa Marta', 'Ibagué']\n",
    "\n",
    "# Lista para almacenar los datos de temperatura\n",
    "datos_temperatura = []\n",
    "\n",
    "for ciudad in ciudades:\n",
    "    url = f'http://api.openweathermap.org/data/2.5/weather?q={ciudad},CO&appid={API_KEY}&units=metric'\n",
    "    respuesta = requests.get(url)\n",
    "\n",
    "    if respuesta.status_code == 200:\n",
    "        datos = respuesta.json()\n",
    "        if 'main' in datos:\n",
    "            temperatura_actual = datos['main']['temp']\n",
    "            datos_temperatura.append({'Ciudad': ciudad, 'Temperatura': temperatura_actual})\n",
    "        else:\n",
    "            print(f'Error: No se encontraron los datos de temperatura para {ciudad}.')\n",
    "    else:\n",
    "        print(f'Error: No se pudo obtener los datos del clima para {ciudad}. Código de estado: {respuesta.status_code}')\n",
    "\n",
    "# Crear un DataFrame de Pandas con los datos de temperatura\n",
    "df_temperatura = pd.DataFrame(datos_temperatura)\n",
    "\n",
    "print(df_temperatura)"
   ]
  }
 ],
 "metadata": {
  "kernelspec": {
   "display_name": "Python 3 (ipykernel)",
   "language": "python",
   "name": "python3"
  },
  "language_info": {
   "codemirror_mode": {
    "name": "ipython",
    "version": 3
   },
   "file_extension": ".py",
   "mimetype": "text/x-python",
   "name": "python",
   "nbconvert_exporter": "python",
   "pygments_lexer": "ipython3",
   "version": "3.11.7"
  }
 },
 "nbformat": 4,
 "nbformat_minor": 5
}
